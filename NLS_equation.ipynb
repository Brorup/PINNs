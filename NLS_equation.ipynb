{
 "cells": [
  {
   "cell_type": "code",
   "execution_count": null,
   "metadata": {
    "colab": {
     "base_uri": "https://localhost:8080/"
    },
    "id": "do6AKi5hvD-o",
    "outputId": "5056672c-a6dd-4b9f-a214-10d5bc29bda0"
   },
   "outputs": [],
   "source": [
    "#from google.colab import drive\n",
    "#drive.mount('/content/drive')"
   ]
  },
  {
   "cell_type": "code",
   "execution_count": null,
   "metadata": {
    "colab": {
     "base_uri": "https://localhost:8080/"
    },
    "id": "2ExtVDF1vE9q",
    "outputId": "79ec0065-c757-46aa-9432-da6ef9e231d9"
   },
   "outputs": [],
   "source": [
    "#!pip install deepxde"
   ]
  },
  {
   "cell_type": "code",
   "execution_count": null,
   "metadata": {
    "id": "oD3LicvnvGvr"
   },
   "outputs": [],
   "source": [
    "from __future__ import absolute_import\n",
    "from __future__ import division\n",
    "from __future__ import print_function\n",
    "\n",
    "import deepxde as dde\n",
    "from deepxde.backend import tf\n",
    "from tensorflow.python.ops import math_ops\n",
    "#import tensorflow_probability as tfp\n",
    "\n",
    "import matplotlib\n",
    "import matplotlib.pyplot as plt\n",
    "from mpl_toolkits.mplot3d import Axes3D\n",
    "\n",
    "import numpy as np\n",
    "from scipy import integrate\n",
    "\n",
    "import imageio\n"
   ]
  },
  {
   "cell_type": "code",
   "execution_count": null,
   "metadata": {},
   "outputs": [],
   "source": [
    "### CHECK IF WE ARE USING GPU ###\n",
    "print(tf.test.gpu_device_name())\n",
    "print(\"Num GPUs Available: \", len(tf.config.list_physical_devices('GPU')))"
   ]
  },
  {
   "cell_type": "code",
   "execution_count": null,
   "metadata": {
    "id": "nujSVzbgXfHy"
   },
   "outputs": [],
   "source": [
    "# PAPERS\n",
    "\n",
    "# https://www.mdpi.com/2073-8994/11/4/469/htm\n",
    "# DEEPXDE on imaginary numbers: https://github.com/lululxvi/deepxde/issues/194\n",
    "# MAZIARRAISSI https://maziarraissi.github.io/PINNs/"
   ]
  },
  {
   "cell_type": "code",
   "execution_count": null,
   "metadata": {
    "id": "jZqDtepYo6_B"
   },
   "outputs": [],
   "source": [
    "# SEED\n",
    "np.random.seed(1234)\n",
    "tf.set_random_seed(1234)"
   ]
  },
  {
   "cell_type": "code",
   "execution_count": null,
   "metadata": {
    "colab": {
     "base_uri": "https://localhost:8080/"
    },
    "id": "3fXt-9R-Xm-J",
    "outputId": "74b1a2c8-e59d-40a1-ba94-14b068292088"
   },
   "outputs": [],
   "source": [
    "# Number of bits (floating points) 64 bit is way slower! Only use it when you know the model works\n",
    "dde.config.real.set_float32()\n",
    "tf.keras.backend.set_floatx('float32')"
   ]
  },
  {
   "cell_type": "code",
   "execution_count": null,
   "metadata": {
    "id": "FWa3bON2XZ39"
   },
   "outputs": [],
   "source": [
    "# DOMAIN\n",
    "x_interval = (-20.0, 20.0)\n",
    "t_interval = (0.0, 4.0)"
   ]
  },
  {
   "cell_type": "markdown",
   "metadata": {
    "id": "sVtLI1hROYgJ"
   },
   "source": [
    "From $I u_t = -u_{xx} - \\alpha |u|^2 u$ we rewrite it to $0=-I u_t - u_{xx} - \\alpha |u|^2 u$ and substituting $u(x,t) = g(x,t) + I w(x,t)$ into the equation and finding its $a + I b$ form.\n",
    "\n",
    "This yields: $w_t - g_{xx} - \\alpha*(g^2 + w^2)*g + I (-g_t - w_{xx} - \\alpha*(g^2 + w^2)*w)$"
   ]
  },
  {
   "cell_type": "code",
   "execution_count": null,
   "metadata": {
    "id": "1hg6m2EhWPkZ"
   },
   "outputs": [],
   "source": [
    "alpha = 2 # alpha > 0 self focusing\n",
    "          # alpha < 0 defocusing \n",
    "S = 4 # Speed of the soliton\n",
    "beta = 1 # Amplitude of the soliton"
   ]
  },
  {
   "cell_type": "code",
   "execution_count": null,
   "metadata": {},
   "outputs": [],
   "source": [
    "### DIFFERENTIAL EQUATION ###\n",
    "\n",
    "# iu_t = -u_xx - alpha * |u|^2 * u\n",
    "# iu_t + u_xx + alpha * |u|^2 * u = 0\n",
    "def NLS_equation(x, y):\n",
    "  # VARIABLES\n",
    "  x1 = x[:,0:1]\n",
    "  t = x[:,1:2]\n",
    "\n",
    "  # FUNCTIONS\n",
    "  g = y[:,0:1] # REAL\n",
    "  w = y[:,1:2] # IMAG\n",
    "\n",
    "  # REAL\n",
    "  g_x = dde.grad.jacobian(y, x, i=0, j=0)\n",
    "  g_t = dde.grad.jacobian(y, x, i=0, j=1)\n",
    "  g_xx = dde.grad.hessian(y, x, component=0, i=0, j=0)\n",
    "\n",
    "  # IMAGINARY\n",
    "  w_x = dde.grad.jacobian(y, x, i=1, j=0)\n",
    "  w_t = dde.grad.jacobian(y, x, i=1, j=1)\n",
    "  w_xx = dde.grad.hessian(y, x, component=1, i=0, j=0)\n",
    "\n",
    "    \n",
    "  return [-w_t + g_xx + alpha * (g**2 + w**2) * g, # REAL\n",
    "          g_t + w_xx + alpha *(g**2 + w**2) * w # IMAGINARY\n",
    "          ]"
   ]
  },
  {
   "cell_type": "code",
   "execution_count": null,
   "metadata": {},
   "outputs": [],
   "source": [
    "### Soliton solution function ### \n",
    "\n",
    "def sol_func(x):\n",
    "  x1 = x[:,0:1]\n",
    "  t = x[:,1:2]\n",
    "  return beta * (np.sqrt(2/alpha) * np.exp(1j * (1/2 * S * x1 - 1/4 * (S**2 - beta**2) * t)) * 1/np.cosh(beta * (x1 - S * t)))\n",
    "\n",
    "def sol_func_2(x1,t):\n",
    "  return beta * (np.sqrt(2/alpha) * np.exp(1j * (1/2 * S * x1 - 1/4 * (S**2 - beta**2) * t)) * 1/np.cosh(beta * (x1 - S * t)))\n",
    "\n",
    "def sol_func_t(x):\n",
    "  x1 = x[:,0:1]\n",
    "  t = x[:,1:2]\n",
    "  return (15*np.sin(2*x1)*1/np.cosh(x1))/4 + 4*np.cos(2*x1)*1/np.cosh(x1)*np.tanh(x1) -1j*(15*np.cos(2*x1)*1/np.cosh(x1))/4 + 4*np.sin(2*x1)*1/np.cosh(x1)*np.tanh(x1)\n",
    "\n",
    "plot = 0\n",
    "\n",
    "number_steps = 5000\n",
    "number_t_steps = 20\n",
    "\n",
    "x_ax = np.linspace(x_interval[0],x_interval[1],number_steps)\n",
    "t_ax = np.linspace(t_interval[0],t_interval[1],number_t_steps)\n",
    "\n",
    "number_of_plots = number_t_steps\n",
    "\n",
    "if(plot == 1):\n",
    "\n",
    "  fig, ax = plt.subplots()\n",
    "\n",
    "  for i in range(0, number_of_plots, 1):\n",
    "    t_value = str(round(t_ax[i],3))\n",
    "\n",
    "    output = sol_func_2(x_ax, t_ax[i])\n",
    "\n",
    "    im_out = output.imag\n",
    "    re_out = output.real\n",
    "    abs_out = np.sqrt(output.imag**2 + output.real**2)\n",
    "\n",
    "    ### SAVE ALL SOLUTION VALUES ###\n",
    "\n",
    "    plt.plot(x_ax, im_out, x_ax, re_out, x_ax, abs_out, linestyle=\"dashed\")\n",
    "    plt.xlabel(\"x\")\n",
    "    plt.ylabel(\"y\")\n",
    "    plt.legend([\"Imag\", \"Real\", \"Abs\"])\n",
    "    plt.ylim([-beta, beta])\n",
    "    plt.title(\"All solution values at: t = \" + t_value)\n",
    "    plt.show()\n",
    "\n",
    "  for i in range(0, number_of_plots, 1):\n",
    "    t_value = str(round(t_ax[i],3))\n",
    "\n",
    "    output = sol_func_2(x_ax, t_ax[i])\n",
    "\n",
    "    im_out = output.imag\n",
    "    re_out = output.real\n",
    "    abs_out = np.sqrt(output.imag**2 + output.real**2)\n",
    "\n",
    "    integral_of_sol_abs_value = integrate.cumulative_trapezoid(abs_out, x_ax)\n",
    "\n",
    "    plt.plot(x_ax, abs_out, \"ro\")\n",
    "    plt.xlabel(\"x\")\n",
    "    plt.ylabel(\"y\")\n",
    "    plt.title(\"Integral of absolute value is: \" + str(integral_of_sol_abs_value[-1]) + \" at t: \" + t_value)\n",
    "    plt.ylim([-beta,beta])\n",
    "    plt.show()\n"
   ]
  },
  {
   "cell_type": "code",
   "execution_count": null,
   "metadata": {},
   "outputs": [],
   "source": [
    "### ON BOUNDARY ###\n",
    "\n",
    "def a_bound(x, on_boundary):\n",
    "  x1 = x[0]\n",
    "  t = x[1]\n",
    "  return on_boundary and np.isclose(x1, x_interval[0])\n",
    "\n",
    "def b_bound(x, on_boundary):\n",
    "  x1 = x[0]\n",
    "  t = x[1]\n",
    "  return on_boundary and np.isclose(x1, x_interval[1])\n",
    "\n",
    "def t0_bound(x, on_initial):\n",
    "  x1 = x[0]\n",
    "  t = x[1]\n",
    "  return on_initial or np.isclose(t, t_interval[0])\n",
    "\n",
    "def Always_true_bound(x,_):\n",
    "  x1 = x[0]\n",
    "  t = x[1]\n",
    "  return True"
   ]
  },
  {
   "cell_type": "code",
   "execution_count": null,
   "metadata": {
    "id": "SA-JdZoqBei2"
   },
   "outputs": [],
   "source": [
    "### REAL CONDITIONS ###\n",
    "\n",
    "# INITIAL CONDITIONS\n",
    "\n",
    "def gt0_func(x):\n",
    "  x1 = x[:,0:1]\n",
    "  t = x[:,1:2]\n",
    "\n",
    "  func_val = sol_func(x)\n",
    "\n",
    "  return func_val.real"
   ]
  },
  {
   "cell_type": "code",
   "execution_count": null,
   "metadata": {},
   "outputs": [],
   "source": [
    "### IMAGINARY CONDITIONS ###\n",
    "\n",
    "# INITIAL CONDITIONS\n",
    "\n",
    "def wt0_func(x):\n",
    "  x1 = x[:,0:1]\n",
    "  t = x[:,1:2]\n",
    "\n",
    "  func_val = sol_func(x)\n",
    "\n",
    "  return func_val.imag"
   ]
  },
  {
   "cell_type": "code",
   "execution_count": null,
   "metadata": {
    "id": "HkO12FhtW95F"
   },
   "outputs": [],
   "source": [
    "### GEOMETRY DEFINITION ###\n",
    "geom_x = dde.geometry.Interval(x_interval[0],x_interval[1])\n",
    "geom_time = dde.geometry.TimeDomain(t_interval[0],t_interval[1])\n",
    "geomxtime = dde.geometry.GeometryXTime(geom_x,geom_time)\n",
    "\n"
   ]
  },
  {
   "cell_type": "code",
   "execution_count": null,
   "metadata": {
    "id": "rDRg242BBmIN"
   },
   "outputs": [],
   "source": [
    "### IMPLEMENTATION OF REAL CONDITIONS ###\n",
    "\n",
    "# g(x,0) = f(x)\n",
    "gt0_bound = dde.IC(geomxtime, gt0_func, t0_bound, component=0)\n"
   ]
  },
  {
   "cell_type": "code",
   "execution_count": null,
   "metadata": {},
   "outputs": [],
   "source": [
    "### IMPLEMENTATION OF IMAGINARY CONDITIONS ###\n",
    "\n",
    "\n",
    "# w(x,0) = p(x)\n",
    "wt0_bound = dde.IC(geomxtime, wt0_func, t0_bound, component=1)\n"
   ]
  },
  {
   "cell_type": "code",
   "execution_count": null,
   "metadata": {},
   "outputs": [],
   "source": [
    "### TEST OF COPY FUNCTION ###\n",
    "\n",
    "g_true = dde.DirichletBC(geomxtime, gt0_func, Always_true_bound, component=0)\n",
    "w_true = dde.DirichletBC(geomxtime, wt0_func, Always_true_bound, component=1)\n"
   ]
  },
  {
   "cell_type": "code",
   "execution_count": null,
   "metadata": {},
   "outputs": [],
   "source": [
    "train_model = 0\n",
    "restore = 1\n",
    "\n",
    "### MODEL SETUP ###\n",
    "\n",
    "data = dde.data.TimePDE(geomxtime, NLS_equation, [gt0_bound, wt0_bound], num_domain=5000, num_boundary=5000, num_initial=5000, train_distribution='sobol',anchors=None, solution = None, num_test=5000)\n",
    "\n",
    "FNN_layer = [2] + [40] * 8  + [2]\n",
    "\n",
    "net = dde.maps.FNN(FNN_layer, \"tanh\", \"Glorot uniform\")\n",
    "model = dde.Model(data, net)\n",
    "\n",
    "model.compile(\"adam\", lr=1e-5)\n",
    "\n",
    "if(restore == 1):\n",
    "    restore_best_model_path = \"model/best_model/best.ckpt-35000\"\n",
    "elif(restore == 0): \n",
    "    restore_best_model_path = None\n",
    "\n",
    "if(train_model == 1):\n",
    "\n",
    "    # CHECKPOINT\n",
    "\n",
    "    checkpointer = dde.callbacks.ModelCheckpoint(\n",
    "        \"model/model.ckpt\", verbose=1, save_better_only=True\n",
    "    )\n",
    "\n",
    "    # EARLY STOP\n",
    "\n",
    "    EarlyStop = dde.callbacks.EarlyStopping(min_delta=1e-9,patience=5000,baseline=None)\n",
    "\n",
    "    best_model_path = \"model/best_model/best.ckpt\"\n",
    "\n",
    "    losshistory, train_state = model.train(epochs=50000, display_every=1000, disregard_previous_best=True, callbacks=[EarlyStop], model_restore_path = restore_best_model_path, model_save_path = best_model_path)\n",
    "    model.compile(\"L-BFGS-B\")\n",
    "    \n",
    "    # TRAINING AND TEST LOSS\n",
    "    dde.saveplot(losshistory, train_state, issave=True, isplot=True)\n",
    "\n",
    "elif(train_model == 0 and restore == 1):\n",
    "    model.restore(restore_best_model_path, verbose=1)\n"
   ]
  },
  {
   "cell_type": "code",
   "execution_count": null,
   "metadata": {},
   "outputs": [],
   "source": [
    "dpi = 300 # Resolution of the figures\n",
    "\n",
    "filenames_real = []\n",
    "\n",
    "for i in range(0, number_of_plots, 1):\n",
    "\n",
    "  fig, ax = plt.subplots()\n",
    "\n",
    "  t_value = str(round(t_ax[i],3))\n",
    "\n",
    "  ### SAVE REAL VALUES ###\n",
    "\n",
    "  X_model = np.vstack((x_ax, t_ax[i]*np.ones(np.size(x_ax)))).T\n",
    "\n",
    "  output = model.predict(X_model)\n",
    "  real_number = output[:,0] # g(x,t)\n",
    "  imag_number = output[:,1] # w(x,t)\n",
    "  abs_number = np.sqrt(real_number**2 + imag_number**2) # abs(x,t)\n",
    "\n",
    "  filename_real = f'{i}.png'\n",
    "  filenames_real.append(\"figures/real/real \" + filename_real)\n",
    "\n",
    "  plt.plot(x_ax, real_number)\n",
    "  plt.xlabel(\"x\")\n",
    "  plt.ylabel(\"y\")\n",
    "  plt.title(\"Real value at: t = \" + t_value)\n",
    "  plt.ylim([-beta, beta])\n",
    "  plt.savefig(\"figures/real/real \" + filename_real, dpi=dpi)\n",
    "  plt.show()\n"
   ]
  },
  {
   "cell_type": "code",
   "execution_count": null,
   "metadata": {},
   "outputs": [],
   "source": [
    "with imageio.get_writer(\"figures/real/Real.gif\", mode='I') as writer:\n",
    "    for filename_real in filenames_real:\n",
    "        image = imageio.imread(filename_real)\n",
    "        writer.append_data(image)"
   ]
  },
  {
   "cell_type": "code",
   "execution_count": null,
   "metadata": {},
   "outputs": [],
   "source": [
    "filenames_imag = []\n",
    "\n",
    "for i in range(0, number_of_plots, 1):\n",
    "\n",
    "  fig, ax = plt.subplots()\n",
    "\n",
    "  t_value = str(round(t_ax[i],3))\n",
    "\n",
    "  ### SAVE IMAG VALUES ###\n",
    "\n",
    "  X_model = np.vstack((x_ax, t_ax[i]*np.ones(np.size(x_ax)))).T\n",
    "\n",
    "  output = model.predict(X_model)\n",
    "  real_number = output[:,0] # g(x,t)\n",
    "  imag_number = output[:,1] # w(x,t)\n",
    "  abs_number = np.sqrt(real_number**2 + imag_number**2) # abs(x,t)\n",
    "\n",
    "  filename_imag = f'{i}.png'\n",
    "  filenames_imag.append(\"figures/imag/imag \" + filename_imag)\n",
    "\n",
    "  plt.plot(x_ax, imag_number)\n",
    "  plt.xlabel(\"x\")\n",
    "  plt.ylabel(\"y\")\n",
    "  plt.title(\"Imag value at: t = \" + t_value)\n",
    "  plt.ylim([-beta, beta])\n",
    "  plt.savefig(\"figures/imag/imag \" + filename_imag, dpi=dpi)\n",
    "  plt.show()\n"
   ]
  },
  {
   "cell_type": "code",
   "execution_count": null,
   "metadata": {},
   "outputs": [],
   "source": [
    "with imageio.get_writer(\"figures/imag/imag.gif\", mode='I') as writer:\n",
    "    for filename_imag in filenames_imag:\n",
    "        image = imageio.imread(filename_imag)\n",
    "        writer.append_data(image)"
   ]
  },
  {
   "cell_type": "code",
   "execution_count": null,
   "metadata": {},
   "outputs": [],
   "source": [
    "filenames_abs = []\n",
    "\n",
    "for i in range(0, number_of_plots, 1):\n",
    "\n",
    "  fig, ax = plt.subplots()\n",
    "\n",
    "  t_value = str(round(t_ax[i],3))\n",
    "\n",
    "  ### SAVE ABS VALUES ###\n",
    "\n",
    "  X_model = np.vstack((x_ax, t_ax[i]*np.ones(np.size(x_ax)))).T\n",
    "\n",
    "  output = model.predict(X_model)\n",
    "  real_number = output[:,0] # g(x,t)\n",
    "  imag_number = output[:,1] # w(x,t)\n",
    "  abs_number = np.sqrt(real_number**2 + imag_number**2) # abs(x,t)\n",
    "\n",
    "  filename_abs = f'{i}.png'\n",
    "  filenames_abs.append(\"figures/abs/abs \" + filename_abs)\n",
    "\n",
    "  plt.plot(x_ax, abs_number)\n",
    "  plt.xlabel(\"x\")\n",
    "  plt.ylabel(\"y\")\n",
    "  plt.title(\"Abs value at: t = \" + t_value)\n",
    "  plt.ylim([-beta, beta])\n",
    "  plt.savefig(\"figures/abs/abs \" + filename_abs, dpi=dpi)\n",
    "  plt.show()"
   ]
  },
  {
   "cell_type": "code",
   "execution_count": null,
   "metadata": {},
   "outputs": [],
   "source": [
    "with imageio.get_writer(\"figures/abs/abs.gif\", mode='I') as writer:\n",
    "    for filename_abs in filenames_abs:\n",
    "        image = imageio.imread(filename_abs)\n",
    "        writer.append_data(image)"
   ]
  },
  {
   "cell_type": "code",
   "execution_count": null,
   "metadata": {},
   "outputs": [],
   "source": [
    "filenames_all = []\n",
    "\n",
    "for i in range(0, number_of_plots, 1):\n",
    "\n",
    "  fig, ax = plt.subplots()\n",
    "\n",
    "  t_value = str(round(t_ax[i],3))\n",
    "\n",
    "  # SAVE ONE WITH ALL VALUES #\n",
    "\n",
    "  filename_all = f'{i}.png'\n",
    "  filenames_all.append(\"figures/all/all \" + filename_all)\n",
    "\n",
    "  X_model = np.vstack((x_ax, t_ax[i]*np.ones(np.size(x_ax)))).T\n",
    "\n",
    "  output = model.predict(X_model)\n",
    "  real_number = output[:,0] # g(x,t)\n",
    "  imag_number = output[:,1] # w(x,t)\n",
    "  abs_number = np.sqrt(real_number**2 + imag_number**2) # abs(x,t)\n",
    "\n",
    "  plt.plot(x_ax, imag_number, x_ax, real_number, x_ax, abs_number, linestyle=\"dashed\")\n",
    "  plt.legend([\"Imag\", \"Real\", \"Abs\"])\n",
    "  plt.xlabel(\"x\")\n",
    "  plt.ylabel(\"y\")\n",
    "  plt.ylim([-beta, beta])\n",
    "  plt.title(\"All values at: t = \" + t_value)\n",
    "  plt.savefig(\"figures/all/all \" + filename_all, dpi=dpi)\n",
    "  plt.show()"
   ]
  },
  {
   "cell_type": "code",
   "execution_count": null,
   "metadata": {},
   "outputs": [],
   "source": [
    "with imageio.get_writer(\"figures/all/all.gif\", mode='I') as writer:\n",
    "    for filename_all in filenames_all:\n",
    "        image = imageio.imread(filename_all)\n",
    "        writer.append_data(image)"
   ]
  },
  {
   "cell_type": "code",
   "execution_count": null,
   "metadata": {},
   "outputs": [],
   "source": [
    "### L2 RESIDUALS AND PLOTS ###\n",
    "\n",
    "l2_real_error = []\n",
    "l2_imag_error = []\n",
    "l2_abs_error = []\n",
    "\n",
    "l2_relative_real_error = []\n",
    "l2_relative_imag_error = []\n",
    "l2_relative_abs_error = []\n",
    "\n",
    "for i in range(0, number_of_plots, 1):\n",
    "\n",
    "  fig, ax = plt.subplots()\n",
    "\n",
    "  t_value = str(round(t_ax[i],3))\n",
    "\n",
    "  X_model = np.vstack((x_ax, t_ax[i]*np.ones(np.size(x_ax)))).T\n",
    "\n",
    "  output = model.predict(X_model)\n",
    "  real_number = output[:,0] # g(x,t)\n",
    "  imag_number = output[:,1] # w(x,t)\n",
    "  abs_number = np.sqrt(real_number**2 + imag_number**2) # abs(x,t)\n",
    "\n",
    "  output_sol = sol_func(X_model)\n",
    "  real_sol = np.ravel(output_sol.real)\n",
    "  imag_sol = np.ravel(output_sol.imag)\n",
    "  abs_sol = np.sqrt(real_sol**2 + imag_sol**2)\n",
    "\n",
    "  real_norm = np.linalg.norm(real_number, 2)\n",
    "  imag_norm = np.linalg.norm(imag_number, 2)\n",
    "  abs_norm = np.linalg.norm(abs_number, 2)\n",
    "\n",
    "  real_norm_error = np.linalg.norm(real_sol - real_number, 2)\n",
    "  imag_norm_error = np.linalg.norm(imag_sol - imag_number, 2)\n",
    "  abs_norm_error = np.linalg.norm(abs_sol - abs_number, 2)\n",
    "\n",
    "  l2_real_error.append(real_norm_error)\n",
    "  l2_imag_error.append(imag_norm_error)\n",
    "  l2_abs_error.append(abs_norm_error)\n",
    "\n",
    "  real_relative_norm_error = real_norm_error/real_norm\n",
    "  imag_relative_norm_error = imag_norm_error/imag_norm\n",
    "  abs_relative_norm_error = abs_norm_error/abs_norm\n",
    "\n",
    "  l2_relative_real_error.append(real_relative_norm_error)\n",
    "  l2_relative_imag_error.append(imag_relative_norm_error)\n",
    "  l2_relative_abs_error.append(abs_relative_norm_error)\n",
    "\n",
    "  print(\"\\nL2-imag:\", imag_norm_error,\"L2-real:\", real_norm_error, \"L2-abs:\", abs_norm_error)\n",
    "\n",
    "  plt.plot(x_ax, imag_sol - imag_number, x_ax, real_sol - real_number, x_ax, abs_sol - abs_number, linestyle=\"dashed\")\n",
    "  plt.legend([\"Imag\", \"Real\", \"Abs\"])\n",
    "  plt.xlabel(\"x\")\n",
    "  plt.ylabel(\"y\")\n",
    "  plt.title(\"All l2 error values at: t = \" + t_value)\n",
    "  plt.ylim([-beta, beta])\n",
    "  plt.show()"
   ]
  },
  {
   "cell_type": "code",
   "execution_count": null,
   "metadata": {},
   "outputs": [],
   "source": [
    "plt.plot(t_ax, l2_imag_error, \"--\", t_ax, l2_real_error, \"--\", t_ax, l2_abs_error, \"--\")\n",
    "plt.legend([\"L2-imag\", \"L2-real\", \"L2-abs\"])\n",
    "plt.xlabel(\"t\")\n",
    "plt.ylabel(\"L2-error\")\n",
    "plt.title(\"L2-error of the real, imaginary and absolute value\")\n",
    "plt.savefig(\"figures/L2_error\", dpi=dpi)\n",
    "plt.show()"
   ]
  },
  {
   "cell_type": "code",
   "execution_count": null,
   "metadata": {},
   "outputs": [],
   "source": [
    "plt.plot(t_ax, l2_relative_imag_error, \"--\", t_ax, l2_relative_real_error, \"--\", t_ax, l2_relative_abs_error, \"--\")\n",
    "plt.legend([\"L2-relative imag\", \"L2-relative real\", \"L2-relative abs\"])\n",
    "plt.xlabel(\"t\")\n",
    "plt.ylabel(\"Relative L2-error\")\n",
    "plt.title(\"L2-relative error of the real, imaginary and absolute value\")\n",
    "plt.savefig(\"figures/L2_relative_error\", dpi=dpi)\n",
    "plt.show()"
   ]
  },
  {
   "cell_type": "code",
   "execution_count": null,
   "metadata": {
    "tags": []
   },
   "outputs": [],
   "source": [
    "### CHECK THAT THE MODEL IS INVARIANT ###\n",
    "\n",
    "l2_integral_error_app = []\n",
    "l2_relative_integral_error_app = []\n",
    "\n",
    "fig, ax = plt.subplots()\n",
    "\n",
    "for i in range(0, number_of_plots, 1):\n",
    "\n",
    "  t_value = str(round(t_ax[i],3))\n",
    "\n",
    "  X_model = np.vstack((x_ax, t_ax[i]*np.ones(np.size(x_ax)))).T\n",
    "\n",
    "  output = model.predict(X_model)\n",
    "  real_number = output[:,0] # g(x,t)\n",
    "  imag_number = output[:,1] # w(x,t)\n",
    "  abs_number = np.sqrt(real_number**2 + imag_number**2) # abs(x,t)\n",
    "\n",
    "  integral_of_abs_value = integrate.cumulative_trapezoid(abs_number,x_ax) # THIS SHOULD BE EQUAL TO PI\n",
    "\n",
    "  last_abs_value = integral_of_abs_value[-1]\n",
    "\n",
    "  l2_integral_error = np.abs(last_abs_value - np.pi)\n",
    "  l2_relative_integral_error = l2_integral_error/np.abs(last_abs_value)\n",
    "\n",
    "  l2_integral_error_app.append(l2_integral_error)\n",
    "  l2_relative_integral_error_app.append(l2_relative_integral_error)\n",
    "\n",
    "  print(\"\\nL2 of invariance:\",l2_integral_error)\n",
    "  print(\"L2-relative error of invariance:\",l2_relative_integral_error)\n",
    "\n",
    "  plt.plot(x_ax, abs_number,\"ro\")\n",
    "  plt.xlabel(\"x\")\n",
    "  plt.ylabel(\"y\")\n",
    "  plt.title(\"Integral of absolute value is: \" + str(integral_of_abs_value[-1]) + \" at t:\" + t_value)\n",
    "  plt.ylim([-beta,beta])\n",
    "  plt.show()"
   ]
  },
  {
   "cell_type": "code",
   "execution_count": null,
   "metadata": {},
   "outputs": [],
   "source": [
    "plt.plot(t_ax, l2_integral_error_app)\n",
    "plt.legend([\"L2 of invariance\"])\n",
    "plt.xlabel(\"t\")\n",
    "plt.ylabel(\"L2-error of invariance\")\n",
    "plt.title(\"Absolute invariance\")\n",
    "plt.savefig(\"figures/l2_error/L2_error_invariance\", dpi=dpi)\n",
    "plt.show()"
   ]
  },
  {
   "cell_type": "code",
   "execution_count": null,
   "metadata": {},
   "outputs": [],
   "source": [
    "plt.plot(t_ax, l2_relative_integral_error_app)\n",
    "plt.legend([\"L2-relative of invariance\"])\n",
    "plt.xlabel(\"t\")\n",
    "plt.ylabel(\"Relative L2-error of invariance\")\n",
    "plt.title(\"Relative invariance\")\n",
    "plt.savefig(\"figures/l2_error/L2_relative_error_invariance\", dpi=dpi)\n",
    "plt.show()"
   ]
  }
 ],
 "metadata": {
  "accelerator": "GPU",
  "colab": {
   "collapsed_sections": [],
   "name": "Navier_Stokes.ipynb",
   "provenance": []
  },
  "interpreter": {
   "hash": "e7370f93d1d0cde622a1f8e1c04877d8463912d04d973331ad4851f04de6915a"
  },
  "kernelspec": {
   "display_name": "Python 3 (ipykernel)",
   "language": "python",
   "name": "python3"
  },
  "language_info": {
   "codemirror_mode": {
    "name": "ipython",
    "version": 3
   },
   "file_extension": ".py",
   "mimetype": "text/x-python",
   "name": "python",
   "nbconvert_exporter": "python",
   "pygments_lexer": "ipython3",
   "version": "3.9.7"
  },
  "metadata": {
   "interpreter": {
    "hash": "e7370f93d1d0cde622a1f8e1c04877d8463912d04d973331ad4851f04de6915a"
   }
  }
 },
 "nbformat": 4,
 "nbformat_minor": 1
}
