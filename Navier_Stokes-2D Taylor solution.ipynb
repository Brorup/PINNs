{
 "cells": [
  {
   "cell_type": "code",
   "execution_count": null,
   "metadata": {
    "colab": {
     "base_uri": "https://localhost:8080/"
    },
    "id": "do6AKi5hvD-o",
    "outputId": "5056672c-a6dd-4b9f-a214-10d5bc29bda0"
   },
   "outputs": [],
   "source": [
    "#from google.colab import drive\n",
    "#drive.mount('/content/drive')"
   ]
  },
  {
   "cell_type": "code",
   "execution_count": null,
   "metadata": {
    "colab": {
     "base_uri": "https://localhost:8080/"
    },
    "id": "2ExtVDF1vE9q",
    "outputId": "79ec0065-c757-46aa-9432-da6ef9e231d9"
   },
   "outputs": [],
   "source": [
    "#!pip install deepxde"
   ]
  },
  {
   "cell_type": "code",
   "execution_count": null,
   "metadata": {
    "id": "oD3LicvnvGvr"
   },
   "outputs": [],
   "source": [
    "from __future__ import absolute_import\n",
    "from __future__ import division\n",
    "from __future__ import print_function\n",
    "\n",
    "import deepxde as dde\n",
    "from deepxde.backend import tf\n",
    "\n",
    "import matplotlib\n",
    "import matplotlib.pyplot as plt\n",
    "from mpl_toolkits.mplot3d import Axes3D\n",
    "\n",
    "import numpy as np\n",
    "\n",
    "import imageio"
   ]
  },
  {
   "cell_type": "code",
   "execution_count": null,
   "metadata": {},
   "outputs": [],
   "source": [
    "### CHECK IF WE ARE USING GPU ###\n",
    "print(tf.test.gpu_device_name())\n",
    "print(\"Num GPUs Available: \", len(tf.config.list_physical_devices('GPU')))"
   ]
  },
  {
   "cell_type": "code",
   "execution_count": null,
   "metadata": {
    "id": "nujSVzbgXfHy"
   },
   "outputs": [],
   "source": [
    "# NAVIER-STOKES 2D-EQUATION TAYLOR SOLUTION\n",
    "\n",
    "\n",
    "# https://en.wikipedia.org/wiki/Taylor%E2%80%93Green_vortex\n",
    "# https://wienkers.com/wp-content/uploads/2019/04/VorflowReport.pdf\n",
    "# https://github.com/maziarraissi/PINNs/blob/master/main/continuous_time_identification%20(Navier-Stokes)/NavierStokes.py"
   ]
  },
  {
   "cell_type": "code",
   "execution_count": null,
   "metadata": {},
   "outputs": [],
   "source": [
    "PIE = np.pi\n",
    "print(PIE)"
   ]
  },
  {
   "cell_type": "code",
   "execution_count": null,
   "metadata": {
    "id": "jZqDtepYo6_B"
   },
   "outputs": [],
   "source": [
    "# SEED\n",
    "np.random.seed(1234)\n",
    "tf.set_random_seed(1234)"
   ]
  },
  {
   "cell_type": "code",
   "execution_count": null,
   "metadata": {
    "colab": {
     "base_uri": "https://localhost:8080/"
    },
    "id": "3fXt-9R-Xm-J",
    "outputId": "74b1a2c8-e59d-40a1-ba94-14b068292088"
   },
   "outputs": [],
   "source": [
    "# Number of bits (floating points) 64 bit is way slower! Only use it when you know the model works.\n",
    "dde.config.real.set_float32()\n",
    "tf.keras.backend.set_floatx('float32')"
   ]
  },
  {
   "cell_type": "code",
   "execution_count": null,
   "metadata": {
    "id": "FWa3bON2XZ39"
   },
   "outputs": [],
   "source": [
    "# DOMAIN\n",
    "x_interval = (0.0, 2*PIE)\n",
    "y_interval = (0.0, 2*PIE)\n",
    "t_interval = (0.0, 4.0)"
   ]
  },
  {
   "cell_type": "markdown",
   "metadata": {
    "id": "sVtLI1hROYgJ"
   },
   "source": [
    "Navier-Stokes equation "
   ]
  },
  {
   "cell_type": "code",
   "execution_count": null,
   "metadata": {
    "id": "1hg6m2EhWPkZ"
   },
   "outputs": [],
   "source": [
    "### CONSTANTS ###\n",
    "rho = 1.0\n",
    "visc = 0.5\n"
   ]
  },
  {
   "cell_type": "code",
   "execution_count": null,
   "metadata": {
    "id": "YPIU4tGcvHOd"
   },
   "outputs": [],
   "source": [
    "### DIFFERENTIAL EQUATION ###\n",
    "\n",
    "def NAVIER_STOKES_equation(x_in, y_out):\n",
    "\n",
    "  ## VARIABLES ##\n",
    "  x = x_in[:,0:1]\n",
    "  y = x_in[:,1:2]\n",
    "  t = x_in[:,2:3]  \n",
    "\n",
    "  ## FUNCTIONS ##\n",
    "        \n",
    "  # U #\n",
    "  u = y_out[:,0:1]\n",
    "    \n",
    "  u_x = dde.grad.jacobian(y_out, x_in, i=0, j=0)\n",
    "  u_y = dde.grad.jacobian(y_out, x_in, i=0, j=1)\n",
    "  u_t = dde.grad.jacobian(y_out, x_in, i=0, j=2)\n",
    "    \n",
    "  u_xx = dde.grad.hessian(y_out, x_in, component=0, i=0,j=0)\n",
    "  u_yy = dde.grad.hessian(y_out, x_in, component=0, i=1,j=1)  \n",
    "\n",
    "  # V #\n",
    "  v = y_out[:,1:2]\n",
    "    \n",
    "  v_x = dde.grad.jacobian(y_out, x_in, i=1, j=0)\n",
    "  v_y = dde.grad.jacobian(y_out, x_in, i=1, j=1)\n",
    "  v_t = dde.grad.jacobian(y_out, x_in, i=1, j=2)\n",
    "       \n",
    "  v_xx = dde.grad.hessian(y_out, x_in, component=1, i=0, j=0)\n",
    "  v_yy = dde.grad.hessian(y_out, x_in, component=1, i=1, j=1)\n",
    "\n",
    "  # P #\n",
    "  p = y[:,2:3]\n",
    "    \n",
    "  p_x = dde.grad.jacobian(y_out, x_in, i=2, j=0)\n",
    "  p_y = dde.grad.jacobian(y_out, x_in, i=2, j=1)\n",
    "\n",
    "  # Continuity equation #\n",
    "  continuity = u_x + v_y\n",
    "\n",
    "\n",
    "  # x-momentum and y-momentum #\n",
    "  eq1 = u_t + u*u_x + v*u_y + 1/rho * p_x - visc*(u_xx + u_yy)\n",
    "  eq2 = v_t + u*v_x + v*v_y + 1/rho * p_y - visc*(v_xx + v_yy)\n",
    "      \n",
    "  return [continuity, eq1, eq2]\n"
   ]
  },
  {
   "cell_type": "code",
   "execution_count": null,
   "metadata": {
    "tags": []
   },
   "outputs": [],
   "source": [
    "### TAYLOR GREEN VORTEX SOLUTION ###\n",
    "\n",
    "def Tay_Gre(x,y,t):\n",
    "\n",
    "    u = np.cos(x)*np.sin(y)*np.exp(-2*visc*t)\n",
    "    v = -1.0*np.sin(x)*np.cos(y)*np.exp(-2*visc*t)\n",
    "    P = -rho/4.0 * (np.cos(2.0*x) + np.cos(2.0*y))*np.exp(-4*visc*t)\n",
    "\n",
    "    return u,v,P\n",
    "\n",
    "number_steps = 40\n",
    "\n",
    "x_ax = np.linspace(x_interval[0],x_interval[1],number_steps)\n",
    "y_ax = np.linspace(y_interval[0],y_interval[1],number_steps)\n",
    "t_ax = np.linspace(t_interval[0],t_interval[1],number_steps)\n",
    "\n",
    "X,Y = np.meshgrid(x_ax,y_ax)\n",
    "\n",
    "plot = 0\n",
    "\n",
    "number_of_plots = number_steps\n",
    "\n",
    "if(plot == 1):\n",
    "\n",
    "    fig, ax = plt.subplots()\n",
    "\n",
    "    ### ABSOLUTE VECTORFIELD ###\n",
    "\n",
    "    for i in range(0, number_of_plots, 1):\n",
    "        t_value = str(round(t_ax[i],3))\n",
    "\n",
    "\n",
    "        U,V,P = Tay_Gre(X,Y,t_ax[i])\n",
    "        plt.contourf(X,Y,np.sqrt(U**2 + V**2), vmin = -2, vmax = 2)\n",
    "        plt.set_cmap(\"seismic\")\n",
    "        plt.colorbar()\n",
    "        plt.xlabel(\"x\")\n",
    "        plt.ylabel(\"y\")\n",
    "        plt.title(\"Absolute Vectorfield at: t = \" + t_value)\n",
    "        plt.show()\n",
    "\n",
    "    ### QUIVER VECTORFIELD ###\n",
    "\n",
    "    for i in range(0, number_of_plots, 1):\n",
    "        t_value = str(round(t_ax[i],3))\n",
    "\n",
    "\n",
    "        U,V,P = Tay_Gre(X,Y,t_ax[i])\n",
    "        plt.quiver(X,Y,U,V,scale=15)\n",
    "        plt.xlabel(\"x\")\n",
    "        plt.ylabel(\"y\")\n",
    "        plt.title(\"Vectorfield at: t = \" + t_value)\n",
    "        plt.show()\n",
    "\n",
    "    ### PRESSURE ###\n",
    "\n",
    "    for i in range(0, number_of_plots, 1):\n",
    "        t_value = str(round(t_ax[i],3))\n",
    "\n",
    "\n",
    "        U,V,P = Tay_Gre(X,Y,t_ax[i])\n",
    "        plt.contourf(X,Y,P, vmin = -1, vmax = 1)\n",
    "        plt.set_cmap(\"seismic\")\n",
    "        plt.colorbar()\n",
    "        plt.xlabel(\"x\")\n",
    "        plt.ylabel(\"y\")\n",
    "        plt.title(\"Pressure at: t = \" + t_value)\n",
    "        plt.show()\n",
    "\n",
    "\n"
   ]
  },
  {
   "cell_type": "code",
   "execution_count": null,
   "metadata": {
    "id": "SA-JdZoqBei2"
   },
   "outputs": [],
   "source": [
    "### CONDITIONS ###\n",
    "\n",
    "## BOUNDARIES ##\n",
    "\n",
    "def t0_bound(x_in, on_intial):\n",
    "  x = x_in[0]\n",
    "  y = x_in[1]\n",
    "  t = x_in[2]\n",
    "  return on_intial or np.isclose(t, t_interval[0])\n",
    "                         \n",
    "## BOUNDARY FUNCTIONS ##\n",
    "                                                   \n",
    "def zero_velocity(x_in):\n",
    "   x = x_in[:,0:1]                                     \n",
    "   y = x_in[:,1:2]                             \n",
    "   t = x_in[:,2:3]                                               \n",
    "   return 0\n",
    "\n",
    "def t0_u_vortex_velocity(x_in):\n",
    "   x = x_in[:,0:1]                                     \n",
    "   y = x_in[:,1:2]                             \n",
    "   t = x_in[:,2:3]\n",
    "   return np.cos(x)*np.sin(y)*np.exp(-2*visc*t)\n",
    "\n",
    "def t0_v_vortex_velocity(x_in):\n",
    "   x = x_in[:,0:1]                                     \n",
    "   y = x_in[:,1:2]                             \n",
    "   t = x_in[:,2:3]\n",
    "   return -1.0*np.sin(x)*np.cos(y)*np.exp(-2*visc*t)\n",
    "\n",
    "def t0_pressure(x_in):\n",
    "   x = x_in[:,0:1]                                     \n",
    "   y = x_in[:,1:2]                             \n",
    "   t = x_in[:,2:3]\n",
    "   return -rho/4.0 * (np.cos(2.0*x) + np.cos(2.0*y))*np.exp(-4*visc*t)\n",
    "\n",
    "def zero_pressure(x_in):\n",
    "   x = x_in[:,0:1]                                     \n",
    "   y = x_in[:,1:2]                             \n",
    "   t = x_in[:,2:3]\n",
    "   return 0\n"
   ]
  },
  {
   "cell_type": "code",
   "execution_count": null,
   "metadata": {
    "id": "HkO12FhtW95F"
   },
   "outputs": [],
   "source": [
    "### GEOMETRY DEFINITION ###\n",
    "\n",
    "geom_rectangle= dde.geometry.Rectangle([x_interval[0], y_interval[0]],[x_interval[1], y_interval[1]])\n",
    "\n",
    "geom_t = dde.geometry.TimeDomain(t_interval[0],t_interval[1])\n",
    "\n",
    "geomxtime = dde.geometry.GeometryXTime(geom_rectangle,geom_t)\n"
   ]
  },
  {
   "cell_type": "code",
   "execution_count": null,
   "metadata": {
    "id": "rDRg242BBmIN"
   },
   "outputs": [],
   "source": [
    "### IMPLEMENTATION OF CONDITIONS ###\n",
    "\n",
    "u_t0 = dde.DirichletBC(geomxtime, t0_u_vortex_velocity, t0_bound, component=0)\n",
    "v_t0 = dde.DirichletBC(geomxtime, t0_v_vortex_velocity, t0_bound, component=1)\n",
    "p_t0 = dde.DirichletBC(geomxtime, t0_pressure, t0_bound, component=2)\n",
    "\n",
    "bcs = [\n",
    "\n",
    "    u_t0, v_t0,\n",
    "\n",
    "    p_t0,\n",
    "\n",
    "    ]\n"
   ]
  },
  {
   "cell_type": "code",
   "execution_count": null,
   "metadata": {
    "colab": {
     "base_uri": "https://localhost:8080/"
    },
    "id": "3sZPsYdmX2-4",
    "outputId": "fcf37b3b-2390-4404-98fa-d36dc7c45853",
    "scrolled": true,
    "tags": []
   },
   "outputs": [],
   "source": [
    "# MODEL SETUP\n",
    "\n",
    "data = dde.data.TimePDE(geomxtime, NAVIER_STOKES_equation, bcs, num_domain=5000, num_boundary=5000, num_initial=5000, train_distribution='sobol', anchors=None, solution = None, num_test=5000)\n",
    "\n",
    "FNN_layer = [3] + [100] * 15 + [3]\n",
    "net = dde.maps.FNN(FNN_layer, \"tanh\", \"Glorot uniform\")\n",
    "#net = dde.maps.ResNet(3,3,40,15, \"tanh\", \"Glorot uniform\")\n",
    "model = dde.Model(data, net)\n",
    "\n",
    "\n",
    "# Trained over 3 times with lr = 1e-4,1e-5,1e-6 #\n",
    "model.compile(\"adam\", lr=1e-6)\n",
    "\n",
    "# CHECKPOINT\n",
    "\n",
    "checkpointer = dde.callbacks.ModelCheckpoint(\"model/model.ckpt\", verbose=1, save_better_only=True, period=1000)\n",
    "\n",
    "# EARLY STOP\n",
    "\n",
    "EarlyStop = dde.callbacks.EarlyStopping(min_delta=1e-9,patience=5000,baseline=None)\n"
   ]
  },
  {
   "cell_type": "code",
   "execution_count": null,
   "metadata": {
    "colab": {
     "base_uri": "https://localhost:8080/"
    },
    "id": "OYmUZ9ODvI-N",
    "outputId": "b280e290-5455-4da9-d89b-405b7036b2f6",
    "scrolled": true
   },
   "outputs": [],
   "source": [
    "# TRAIN THE NETWORK OR RESTORE OR BOTH #\n",
    "\n",
    "train_model = 0\n",
    "restore = 1\n",
    "\n",
    "best_model_path = \"model/best_model/best.ckpt\"\n",
    "\n",
    "best_model_checkpoint = \"model/best_model/best.ckpt-50000\"\n",
    "\n",
    "if(restore == 1):\n",
    "    restore_best_model_path = best_model_checkpoint\n",
    "else:\n",
    "    restore_best_model_path = None\n",
    "\n",
    "if(train_model == 1):\n",
    "    losshistory, train_state = model.train(epochs=50000, display_every=1000, disregard_previous_best=True, callbacks=[EarlyStop], model_restore_path = restore_best_model_path, model_save_path = best_model_path)\n",
    "    model.compile(\"L-BFGS-B\")"
   ]
  },
  {
   "cell_type": "code",
   "execution_count": null,
   "metadata": {
    "id": "mEURjDQHvKK5"
   },
   "outputs": [],
   "source": [
    "# TRAINING AND TEST LOSS\n",
    "\n",
    "if(train_model == 1):\n",
    "    dde.saveplot(losshistory, train_state, issave=True, isplot=True)\n",
    "elif(train_model == 0 and restore == 1):\n",
    "    model.restore(best_model_checkpoint, verbose=1)\n"
   ]
  },
  {
   "cell_type": "code",
   "execution_count": null,
   "metadata": {},
   "outputs": [],
   "source": [
    "number_of_plots = number_steps\n",
    "\n",
    "dpi = 300 # Resolution of the figures\n",
    "\n",
    "fig, ax = plt.subplots()\n",
    "\n",
    "filenames_abs_velocity = []\n",
    "\n",
    "\n",
    "for i in range(0, number_of_plots, 1):\n",
    "        t_value = str(round(t_ax[i],3))\n",
    "\n",
    "        filename_abs_velocity = f'{i}.png'\n",
    "        filenames_abs_velocity.append(\"figures/abs_velocity/abs_velocity \" + filename_abs_velocity)\n",
    "        \n",
    "        X_model = np.vstack((np.ravel(X),np.ravel(Y),t_ax[i]*np.ones(np.size(X)))).T\n",
    "\n",
    "        output = model.predict(X_model)\n",
    "        U = np.reshape(output[:,0],(-1,number_steps))\n",
    "        V = np.reshape(output[:,1],(-1,number_steps))\n",
    "        P = output[:,2]\n",
    "    \n",
    "        plt.contourf(X,Y,np.sqrt(U**2 + V**2),vmin = -2,vmax = 2)\n",
    "        plt.set_cmap(\"seismic\")\n",
    "        plt.colorbar()\n",
    "        plt.xlabel(\"x\")\n",
    "        plt.ylabel(\"y\")\n",
    "        plt.title(\"Absolute Vectorfield at: t = \" + t_value)\n",
    "        plt.savefig(\"figures/abs_velocity/abs_velocity \" + filename_abs_velocity, dpi=dpi)\n",
    "        plt.show()"
   ]
  },
  {
   "cell_type": "code",
   "execution_count": null,
   "metadata": {
    "id": "wd_OR3xgaGp_"
   },
   "outputs": [],
   "source": [
    "number_of_plots = number_steps\n",
    "\n",
    "fig, ax = plt.subplots()\n",
    "\n",
    "filenames_velocity = []\n",
    "\n",
    "for i in range(0, number_of_plots, 1):\n",
    "  t_value = str(round(t_ax[i],3))\n",
    "\n",
    "  ### SAVE VELOCITY AS VECTORFIELD ###\n",
    "\n",
    "  filename_velocity = f'{i}.png'\n",
    "  filenames_velocity.append(\"figures/velocity/velocity \" + filename_velocity)\n",
    "\n",
    "  X_model = np.vstack((np.ravel(X),np.ravel(Y),t_ax[i]*np.ones(np.size(X)))).T\n",
    "\n",
    "  output = model.predict(X_model)\n",
    "  U = output[:,0]\n",
    "  V = output[:,1]\n",
    "  P = output[:,2]\n",
    "\n",
    "  plt.quiver(X,Y,U,V,scale=15)\n",
    "  plt.xlabel(\"x\")\n",
    "  plt.ylabel(\"y\")\n",
    "  plt.title(\"Vectorfield at: t = \" + t_value)\n",
    "  plt.savefig(\"figures/velocity/velocity \" + filename_velocity, dpi=dpi)\n",
    "  plt.show()\n"
   ]
  },
  {
   "cell_type": "code",
   "execution_count": null,
   "metadata": {},
   "outputs": [],
   "source": [
    "number_of_plots = number_steps\n",
    "\n",
    "fig, ax = plt.subplots()\n",
    "\n",
    "filenames_pressure = []\n",
    "\n",
    "for i in range(0, number_of_plots, 1):\n",
    "  t_value = str(round(t_ax[i],3))\n",
    "\n",
    "  ### SAVE PRESSURE AS CONTOURPLOT ###\n",
    "\n",
    "  filename_pressure =f'{i}.png'\n",
    "  filenames_pressure.append(\"figures/pressure/pressure \" + filename_pressure)\n",
    "\n",
    "  X_model = np.vstack((np.ravel(X),np.ravel(Y),t_ax[i]*np.ones(np.size(X)))).T\n",
    "\n",
    "  output = model.predict(X_model)\n",
    "  U = output[:,0]\n",
    "  V = output[:,1]\n",
    "  P = np.reshape(output[:,2],(-1,number_steps))\n",
    "\n",
    "  plt.contourf(X,Y,P,vmin=-1,vmax=1)\n",
    "  plt.set_cmap(\"seismic\")\n",
    "  plt.colorbar()\n",
    "  plt.xlabel(\"x\")\n",
    "  plt.ylabel(\"y\")\n",
    "  plt.title(\"Pressure at: t = \" + t_value)\n",
    "  plt.savefig(\"figures/pressure/pressure \" + filename_pressure, dpi=dpi)\n",
    "  plt.show()"
   ]
  },
  {
   "cell_type": "code",
   "execution_count": null,
   "metadata": {},
   "outputs": [],
   "source": [
    "with imageio.get_writer(\"figures/abs_velocity/abs_Vectorfield.gif\", mode='I') as writer:\n",
    "    for filename_abs_velocity in filenames_abs_velocity:\n",
    "        image = imageio.imread(filename_abs_velocity)\n",
    "        writer.append_data(image)"
   ]
  },
  {
   "cell_type": "code",
   "execution_count": null,
   "metadata": {},
   "outputs": [],
   "source": [
    "with imageio.get_writer(\"figures/velocity/Vectorfield.gif\", mode='I') as writer:\n",
    "    for filename_velocity in filenames_velocity:\n",
    "        image = imageio.imread(filename_velocity)\n",
    "        writer.append_data(image)\n",
    "        "
   ]
  },
  {
   "cell_type": "code",
   "execution_count": null,
   "metadata": {},
   "outputs": [],
   "source": [
    "with imageio.get_writer(\"figures/pressure/Pressurefield.gif\", mode='I') as writer:\n",
    "    for filename_pressure in filenames_pressure:\n",
    "        image = imageio.imread(filename_pressure)\n",
    "        writer.append_data(image)\n"
   ]
  },
  {
   "cell_type": "markdown",
   "metadata": {},
   "source": [
    "PLOTS OF THE RESIDUAL AND THE L2-RELATIVE-NORM ERROR"
   ]
  },
  {
   "cell_type": "code",
   "execution_count": null,
   "metadata": {},
   "outputs": [],
   "source": [
    "number_of_plots = number_steps\n",
    "\n",
    "fig, ax = plt.subplots()\n",
    "\n",
    "filenames_velocity_error = []\n",
    "\n",
    "l2_u_velocity_error_app = []\n",
    "l2_v_velocity_error_app = []\n",
    "l2_uv_velocity_error_app = []\n",
    "\n",
    "l2_u_relative_velocity_error_app = []\n",
    "l2_v_relative_velocity_error_app = []\n",
    "l2_uv_relative_velocity_error_app = []\n",
    "\n",
    "for i in range(0, number_of_plots, 1):\n",
    "  t_value = str(round(t_ax[i],3))\n",
    "\n",
    "  ### SAVE VELOCITY ERROR AS VECTORFIELD ###\n",
    "\n",
    "  filename_velocity_error = f'{i}.png'\n",
    "  filenames_velocity_error.append(\"figures/velocity_error/velocity_error \" + filename_velocity_error)\n",
    "\n",
    "  X_model = np.vstack((np.ravel(X),np.ravel(Y),t_ax[i]*np.ones(np.size(X)))).T\n",
    "\n",
    "  U_sol,V_sol,P_sol = Tay_Gre(X,Y,t_ax[i])\n",
    "\n",
    "  U_sol = np.ravel(U_sol)\n",
    "  V_sol = np.ravel(V_sol)\n",
    "  P_sol = np.ravel(P_sol)\n",
    "\n",
    "  output = model.predict(X_model)\n",
    "  U = output[:,0]\n",
    "  V = output[:,1]\n",
    "  P = output[:,2]\n",
    "\n",
    "  U_norm = np.linalg.norm(U,2)\n",
    "  V_norm = np.linalg.norm(V,2)\n",
    "  P_norm = np.linalg.norm(P,2)\n",
    "\n",
    "  l2_u_velocity_error = np.linalg.norm(U_sol - U,2)\n",
    "  l2_v_velocity_error = np.linalg.norm(V_sol - V,2)\n",
    "  l2_uv_velocity_error = np.sqrt(l2_u_velocity_error**2 + l2_v_velocity_error**2)\n",
    "\n",
    "  l2_u_relative_velocity_error = l2_u_velocity_error/U_norm\n",
    "  l2_v_relative_velocity_error = l2_v_velocity_error/V_norm\n",
    "  l2_uv_relative_velocity_error = l2_uv_velocity_error/np.sqrt(U_norm**2 + V_norm**2)\n",
    "\n",
    "  l2_u_relative_velocity_error_app.append(l2_u_relative_velocity_error)\n",
    "  l2_v_relative_velocity_error_app.append(l2_v_relative_velocity_error)\n",
    "  l2_uv_relative_velocity_error_app.append(l2_uv_relative_velocity_error)\n",
    "\n",
    "  l2_u_velocity_error_app.append(l2_u_velocity_error)\n",
    "  l2_v_velocity_error_app.append(l2_v_velocity_error)\n",
    "  l2_uv_velocity_error_app.append(l2_uv_velocity_error)\n",
    "\n",
    "  print(\"\\nL2-u:\", l2_u_velocity_error,\"L2-v:\", l2_v_velocity_error, \"L2-uv:\", l2_uv_velocity_error,\"\")\n",
    "  print(\"L2-relative-u:\", l2_u_relative_velocity_error,\"L2-relative-v:\", l2_v_relative_velocity_error, \"L2-relative-uv:\", l2_uv_relative_velocity_error,\"\")\n",
    "\n",
    "  plt.quiver(X,Y,U_sol - U,V_sol - V, scale=15)\n",
    "\n",
    "  plt.title(\"Vectorfield error at: t = \" + t_value)\n",
    "  plt.xlabel(\"x\")\n",
    "  plt.ylabel(\"y\")\n",
    "  plt.savefig(\"figures/velocity_error/velocity_error \" + filename_velocity_error, dpi=dpi)\n",
    "  plt.show()"
   ]
  },
  {
   "cell_type": "code",
   "execution_count": null,
   "metadata": {},
   "outputs": [],
   "source": [
    "plt.plot(t_ax,l2_u_velocity_error_app,\"--\",t_ax,l2_v_velocity_error_app,\"--\",t_ax,l2_uv_velocity_error_app,\"--\")\n",
    "plt.legend([\"L2-u\", \"L2-v\", \"L2-uv\"])\n",
    "plt.xlabel(\"t\")\n",
    "plt.ylabel(\"Absolute L2\")\n",
    "plt.title(\"L2-error of the velocityfield u & v as a function of time\")\n",
    "plt.savefig(\"figures/velocity/L2_error\", dpi=dpi)\n",
    "plt.show()"
   ]
  },
  {
   "cell_type": "code",
   "execution_count": null,
   "metadata": {},
   "outputs": [],
   "source": [
    "plt.plot(t_ax,l2_u_relative_velocity_error_app,\"--\",t_ax,l2_v_relative_velocity_error_app,\"--\",t_ax,l2_uv_relative_velocity_error_app,\"--\")\n",
    "plt.legend([\"L2-relative-u\",\"L2-relative-v\",\"L2-relative-uv\",])\n",
    "plt.xlabel(\"t\")\n",
    "plt.ylabel(\"Relative L2\")\n",
    "plt.title(\"L2-relative error of the velocityfield u & v as a function of time\")\n",
    "plt.savefig(\"figures/velocity/L2_relative_error\", dpi=dpi)\n",
    "plt.show()"
   ]
  },
  {
   "cell_type": "code",
   "execution_count": null,
   "metadata": {},
   "outputs": [],
   "source": [
    "number_of_plots = number_steps\n",
    "\n",
    "fig, ax = plt.subplots()\n",
    "\n",
    "filenames_pressure_error = []\n",
    "\n",
    "l2_pressure_error_app = []\n",
    "l2_relative_pressure_error_app = []\n",
    "\n",
    "for i in range(0, number_of_plots, 1):\n",
    "  t_value = str(round(t_ax[i],3))\n",
    "\n",
    "  ### SAVE PRESSURE ERROR ###\n",
    "\n",
    "  filename_pressure_error = f'{i}.png'\n",
    "  filenames_pressure.append(\"figures/pressure_error/pressure_error \" + filename_pressure_error)\n",
    "\n",
    "  X_model = np.vstack((np.ravel(X),np.ravel(Y),t_ax[i]*np.ones(np.size(X)))).T\n",
    "\n",
    "  U_sol, V_sol, P_sol = Tay_Gre(X,Y,t_ax[i])\n",
    "\n",
    "  #U_sol = np.ravel(U_sol)\n",
    "  #V_sol = np.ravel(V_sol)\n",
    "  #P_sol = np.ravel(P_sol)\n",
    "\n",
    "  output = model.predict(X_model)\n",
    "  U = output[:,0]\n",
    "  V = output[:,1]\n",
    "  P = np.reshape(output[:,2],(-1,number_steps))\n",
    "\n",
    "  P_norm = np.linalg.norm(P,2)\n",
    "  l2_pressure_error = np.linalg.norm(P_sol - P,2)\n",
    "  l2_relative_pressure_error = l2_pressure_error/P_norm\n",
    "\n",
    "  l2_pressure_error_app.append(l2_pressure_error)\n",
    "  l2_relative_pressure_error_app.append(l2_relative_pressure_error)\n",
    "\n",
    "  print(\"\\nL2-p: \", l2_pressure_error)\n",
    "  print(\"L2-relative-p\", l2_relative_pressure_error)\n",
    "\n",
    "  plt.contourf(X,Y,P_sol - P, vmin = -2, vmax = 2)\n",
    "  plt.set_cmap(\"seismic\")\n",
    "  plt.colorbar()\n",
    "  plt.xlabel(\"x\")\n",
    "  plt.ylabel(\"y\")\n",
    "  plt.title(\"Pressure error at: t = \" + t_value)\n",
    "  plt.savefig(\"figures/pressure_error/pressure_error \" + filename_pressure_error, dpi=dpi)\n",
    "  plt.show()"
   ]
  },
  {
   "cell_type": "code",
   "execution_count": null,
   "metadata": {},
   "outputs": [],
   "source": [
    "plt.plot(t_ax, l2_pressure_error_app,\"--\")\n",
    "plt.legend([\"L2-P\"])\n",
    "plt.xlabel(\"t\")\n",
    "plt.ylabel(\"Absolute L2\")\n",
    "plt.title(\"L2-error of the pressure P as a function of time\")\n",
    "plt.savefig(\"figures/l2_error/pressure/L2_error\", dpi=dpi)\n",
    "plt.show()"
   ]
  },
  {
   "cell_type": "code",
   "execution_count": null,
   "metadata": {},
   "outputs": [],
   "source": [
    "plt.plot(t_ax, l2_relative_pressure_error_app,\"--\")\n",
    "plt.legend([\"L2-P\"])\n",
    "plt.xlabel(\"t\")\n",
    "plt.ylabel(\"Relative L2\")\n",
    "plt.title(\"Relative L2-error of the pressure P as a function of time\")\n",
    "plt.savefig(\"figures/l2_error/pressure/L2_relative_error\", dpi=dpi)\n",
    "plt.show()"
   ]
  }
 ],
 "metadata": {
  "accelerator": "GPU",
  "colab": {
   "collapsed_sections": [],
   "name": "Navier_Stokes.ipynb",
   "provenance": []
  },
  "interpreter": {
   "hash": "e7370f93d1d0cde622a1f8e1c04877d8463912d04d973331ad4851f04de6915a"
  },
  "kernelspec": {
   "display_name": "Python 3 (ipykernel)",
   "language": "python",
   "name": "python3"
  },
  "language_info": {
   "codemirror_mode": {
    "name": "ipython",
    "version": 3
   },
   "file_extension": ".py",
   "mimetype": "text/x-python",
   "name": "python",
   "nbconvert_exporter": "python",
   "pygments_lexer": "ipython3",
   "version": "3.9.7"
  },
  "metadata": {
   "interpreter": {
    "hash": "e7370f93d1d0cde622a1f8e1c04877d8463912d04d973331ad4851f04de6915a"
   }
  }
 },
 "nbformat": 4,
 "nbformat_minor": 1
}
